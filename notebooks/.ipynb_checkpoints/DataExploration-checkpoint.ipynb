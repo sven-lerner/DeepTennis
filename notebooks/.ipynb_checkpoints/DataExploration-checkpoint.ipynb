{
 "cells": [
  {
   "cell_type": "code",
   "execution_count": 1,
   "metadata": {},
   "outputs": [],
   "source": [
    "import numpy as np\n",
    "import csv\n",
    "import pandas as pd\n",
    "%matplotlib inline\n",
    "import matplotlib.pyplot as plt\n",
    "import random"
   ]
  },
  {
   "cell_type": "code",
   "execution_count": null,
   "metadata": {},
   "outputs": [],
   "source": []
  },
  {
   "cell_type": "code",
   "execution_count": 2,
   "metadata": {},
   "outputs": [],
   "source": [
    "aus_open_2011_matches_path = '/Users/sven/repos/stanford/cs_230/project/DeepTennis/data/2011-ausopen-matches.csv'\n",
    "aus_open_2011_matches = pd.read_csv(aus_open_2011_matches_path) \n",
    "aus_open_2011_points_path = '/Users/sven/repos/stanford/cs_230/project/DeepTennis/data/2011-ausopen-points.csv'\n",
    "aus_open_2011_points = pd.read_csv(aus_open_2011_points_path) \n",
    "\n",
    "french_open_2011_matches_path = '/Users/sven/repos/stanford/cs_230/project/DeepTennis/data/2011-frenchopen-matches.csv'\n",
    "french_open_2011_matches = pd.read_csv(french_open_2011_matches_path) \n",
    "french_open_2011_points_path = '/Users/sven/repos/stanford/cs_230/project/DeepTennis/data/2011-frenchopen-points.csv'\n",
    "french_open_2011_points = pd.read_csv(french_open_2011_points_path) \n",
    "\n",
    "us_open_2011_matches_path = '/Users/sven/repos/stanford/cs_230/project/DeepTennis/data/2011-usopen-matches.csv'\n",
    "us_open_2011_matches = pd.read_csv(us_open_2011_matches_path) \n",
    "us_open_2011_points_path = '/Users/sven/repos/stanford/cs_230/project/DeepTennis/data/2011-usopen-points.csv'\n",
    "us_open_2011_points = pd.read_csv(us_open_2011_points_path) \n"
   ]
  },
  {
   "cell_type": "code",
   "execution_count": 6,
   "metadata": {},
   "outputs": [],
   "source": [
    "# print(us_open_2011_matches['winner'])\n",
    "# print(aus_open_2012_points.columns)\n"
   ]
  },
  {
   "cell_type": "code",
   "execution_count": 7,
   "metadata": {},
   "outputs": [],
   "source": [
    "match_1_id = aus_open_2011_matches.get('match_id')[0]\n"
   ]
  },
  {
   "cell_type": "code",
   "execution_count": 8,
   "metadata": {},
   "outputs": [],
   "source": [
    "match_1_data = dict(aus_open_2011_matches.loc[0])\n",
    "match_1_points = aus_open_2011_points.loc[aus_open_2011_points['match_id'] == match_1_id]"
   ]
  },
  {
   "cell_type": "code",
   "execution_count": 9,
   "metadata": {},
   "outputs": [
    {
     "data": {
      "text/plain": [
       "{'match_id': '2011-ausopen-1101',\n",
       " 'year': 2011,\n",
       " 'slam': 'ausopen',\n",
       " 'match_num': 1101,\n",
       " 'player1': 'Rafael Nadal',\n",
       " 'player2': 'Marcos Daniel',\n",
       " 'status': 'Retired',\n",
       " 'winner': 1,\n",
       " 'event_name': \"Men's Singles\",\n",
       " 'round': 'Round 1',\n",
       " 'court_name': 'Rod Laver Arena',\n",
       " 'court_id': 'A',\n",
       " 'player1id': 'atpn409',\n",
       " 'player2id': 'atpd339',\n",
       " 'nation1': 'ESP',\n",
       " 'nation2': 'BRA'}"
      ]
     },
     "execution_count": 9,
     "metadata": {},
     "output_type": "execute_result"
    }
   ],
   "source": [
    "match_1_data"
   ]
  },
  {
   "cell_type": "code",
   "execution_count": 78,
   "metadata": {},
   "outputs": [
    {
     "name": "stdout",
     "output_type": "stream",
     "text": [
      "    P2Winner  P1Winner\n",
      "0        0.0       0.0\n",
      "1        0.0       0.0\n",
      "2        0.0       0.0\n",
      "3        0.0       0.0\n",
      "4        0.0       0.0\n",
      "5        0.0       1.0\n",
      "6        0.0       0.0\n",
      "7        0.0       0.0\n",
      "8        0.0       1.0\n",
      "9        0.0       0.0\n",
      "10       0.0       1.0\n",
      "11       0.0       0.0\n",
      "12       0.0       0.0\n",
      "13       0.0       0.0\n",
      "14       0.0       0.0\n",
      "15       0.0       0.0\n",
      "16       0.0       0.0\n",
      "17       0.0       0.0\n",
      "18       0.0       1.0\n",
      "19       0.0       0.0\n",
      "20       0.0       1.0\n",
      "21       0.0       0.0\n",
      "22       0.0       0.0\n",
      "23       0.0       0.0\n",
      "24       0.0       1.0\n",
      "25       0.0       1.0\n",
      "26       0.0       1.0\n",
      "27       0.0       1.0\n",
      "28       0.0       1.0\n",
      "29       0.0       0.0\n",
      "30       0.0       1.0\n",
      "31       0.0       0.0\n",
      "32       0.0       0.0\n",
      "33       0.0       0.0\n",
      "34       0.0       0.0\n",
      "35       0.0       0.0\n",
      "36       0.0       1.0\n",
      "37       0.0       0.0\n",
      "38       0.0       0.0\n",
      "39       0.0       0.0\n",
      "40       0.0       1.0\n",
      "41       0.0       1.0\n",
      "42       0.0       0.0\n",
      "43       0.0       0.0\n",
      "44       0.0       1.0\n",
      "45       0.0       0.0\n",
      "46       0.0       0.0\n",
      "47       0.0       0.0\n",
      "48       0.0       1.0\n",
      "49       0.0       1.0\n",
      "50       0.0       0.0\n",
      "51       0.0       1.0\n",
      "52       0.0       1.0\n",
      "53       0.0       1.0\n",
      "54       0.0       1.0\n",
      "55       0.0       0.0\n",
      "56       0.0       1.0\n",
      "57       0.0       0.0\n",
      "58       0.0       1.0\n",
      "59       0.0       0.0\n",
      "60       0.0       1.0\n",
      "61       0.0       1.0\n"
     ]
    }
   ],
   "source": [
    "pd.options.display.max_rows = 500\n",
    "\n",
    "print(match_1_points[{'P1Winner', 'P2Winner'}])"
   ]
  },
  {
   "cell_type": "code",
   "execution_count": 11,
   "metadata": {},
   "outputs": [
    {
     "ename": "NameError",
     "evalue": "name 'valid' is not defined",
     "output_type": "error",
     "traceback": [
      "\u001b[0;31m---------------------------------------------------------------------------\u001b[0m",
      "\u001b[0;31mNameError\u001b[0m                                 Traceback (most recent call last)",
      "\u001b[0;32m<ipython-input-11-0b02ceba8652>\u001b[0m in \u001b[0;36m<module>\u001b[0;34m\u001b[0m\n\u001b[0;32m----> 1\u001b[0;31m \u001b[0mvalid\u001b[0m\u001b[0;34m\u001b[0m\u001b[0;34m\u001b[0m\u001b[0m\n\u001b[0m",
      "\u001b[0;31mNameError\u001b[0m: name 'valid' is not defined"
     ]
    }
   ],
   "source": [
    "valid"
   ]
  },
  {
   "cell_type": "code",
   "execution_count": 82,
   "metadata": {},
   "outputs": [],
   "source": [
    "valid_fields = {\n",
    "# 'ElapsedTime',\n",
    "# 'SetNo',\n",
    "'P1GamesWon',\n",
    "'P2GamesWon',\n",
    "# 'SetWinner',\n",
    "# 'GameNo',\n",
    "# 'GameWinner',\n",
    "# 'PointNumber',\n",
    "# 'PointWinner',\n",
    "# 'PointServer',\n",
    "# 'Speed_KMH',\n",
    "# 'Rally',\n",
    "'P1Score',\n",
    "'P2Score',\n",
    "# 'P1Momentum',\n",
    "# 'P2Momentum',\n",
    "'P1PointsWon',\n",
    "'P2PointsWon',\n",
    "# 'P1Ace',\n",
    "# 'P2Ace',\n",
    "# 'P1Winner',\n",
    "# 'P2Winner',\n",
    "# 'P1DoubleFault',\n",
    "# 'P2DoubleFault',\n",
    "# 'P1UnfErr',\n",
    "# 'P2UnfErr',\n",
    "# 'P1NetPoint',\n",
    "# 'P2NetPoint',\n",
    "# 'P1NetPointWon',\n",
    "# 'P2NetPointWon',\n",
    "# 'P1BreakPoint',\n",
    "# 'P2BreakPoint',\n",
    "# 'P1BreakPointWon',\n",
    "# 'P2BreakPointWon',\n",
    "# 'P1FirstSrvIn',\n",
    "# 'P2FirstSrvIn',\n",
    "# 'P1FirstSrvWon',\n",
    "# 'P2FirstSrvWon',\n",
    "# 'P1SecondSrvIn',\n",
    "# 'P2SecondSrvIn',\n",
    "# 'P1SecondSrvWon',\n",
    "# 'P2SecondSrvWon',\n",
    "# 'P1ForcedError',\n",
    "# 'P2ForcedError',\n",
    "# 'History',\n",
    "# 'Speed_MPH',\n",
    "# 'P1BreakPointMissed',\n",
    "# 'P2BreakPointMissed',\n",
    "# 'ServeIndicator',\n",
    "# 'P1TurningPoint', \n",
    "# 'P2TurningPoint'\n",
    "}\n",
    "\n",
    "shuffle_pairs = {\n",
    "    ('P1GamesWon','P2GamesWon'),\n",
    "    ('P1BreakPointMissed','P2BreakPointMissed'),\n",
    "    ('P1Score', 'P2Score'),\n",
    "    ('P1Momentum', 'P2Momentum'),\n",
    "    ('P1PointsWon', 'P2PointsWon'),\n",
    "    ('P1Ace', 'P2Ace'),\n",
    "    ('P1Winner', 'P2Winner'),\n",
    "    ('P1DoubleFault', 'P2DoubleFault'),\n",
    "    ('P1UnfErr', 'P2UnfErr'),\n",
    "    ('P1NetPoint', 'P2NetPoint'),\n",
    "    ('P1NetPointWon', 'P2NetPointWon'),\n",
    "    ('P1BreakPoint', 'P2BreakPoint'),\n",
    "    ('P1BreakPointWon', 'P2BreakPointWon'),\n",
    "    ('P1FirstSrvIn', 'P2FirstSrvIn'),\n",
    "    ('P1FirstSrvWon', 'P2FirstSrvWon'),\n",
    "    ('P1SecondSrvIn', 'P2SecondSrvIn'), \n",
    "    ('P1SecondSrvWon', 'P2SecondSrvWon'),\n",
    "    ('P1ForcedError', 'P2ForcedError'),\n",
    "    ('P1TurningPoint', 'P2TurningPoint')\n",
    "}"
   ]
  },
  {
   "cell_type": "code",
   "execution_count": 83,
   "metadata": {},
   "outputs": [],
   "source": [
    "def parse_time(time_string):\n",
    "    hr, m, s = [int(x) for x in time_string.split(':')]\n",
    "    return 3600*hr + 60 * m + s\n",
    "\n",
    "def extract_numpy_from_match(match_points, shuffle_players=False):\n",
    "    \n",
    "    match_points_copy = match_points.copy()\n",
    "    if shuffle_players:\n",
    "        for p1_val, p2_val in shuffle_pairs:\n",
    "            tmp = match_points_copy[p1_val]\n",
    "            match_points_copy[p1_val] = match_points_copy[p2_val]\n",
    "            match_points_copy[p2_val] = tmp\n",
    "    parsed_time = match_points_copy\n",
    "    parsed_time['ElapsedTime'] = parsed_time['ElapsedTime'].map(lambda x: parse_time(x))\n",
    "    parsed_scores = parsed_time.replace('AD', 55)\n",
    "    \n",
    "    return parsed_scores[list(valid_fields)].to_numpy(dtype=np.float)\n",
    "    "
   ]
  },
  {
   "cell_type": "code",
   "execution_count": null,
   "metadata": {},
   "outputs": [],
   "source": []
  },
  {
   "cell_type": "code",
   "execution_count": 84,
   "metadata": {},
   "outputs": [],
   "source": [
    "def get_match_data(match_id, match_data, point_data, soften_curve):\n",
    "    shuffle_players = random.uniform(0, 1) > 0.5\n",
    "    winner = match_data.loc[match_data['match_id'] == match_id].iloc[0]['winner'] - 1\n",
    "    \n",
    "    point_data = point_data.loc[point_data['match_id'] == match_id]\n",
    "    num_points = point_data.shape[0]\n",
    "    \n",
    "    if shuffle_players:\n",
    "        winner = (winner + 1) % 2\n",
    "#         assert winner < 2, f'{winner}, {match_id}'\n",
    "        \n",
    "    y_gt = np.full(shape=num_points, fill_value=winner, dtype='float')\n",
    "\n",
    "    if soften_curve:\n",
    "        if winner == 1:\n",
    "            for i in range(num_points):\n",
    "                if i > 25:\n",
    "                    y_gt[i] = y_gt[i] -0.5*(1.0-(i-25)/(num_points-25))\n",
    "                else:\n",
    "                    y_gt[i] = 0.5\n",
    "        else:\n",
    "            for i in range(num_points):\n",
    "                if i > 25:\n",
    "                    y_gt[i] = y_gt[i] +0.5*(1.0-(i-25)/(num_points-25))\n",
    "                else:\n",
    "                    y_gt[i] = 0.5\n",
    "    \n",
    "    return extract_numpy_from_match(point_data, shuffle_players), y_gt\n",
    "    "
   ]
  },
  {
   "cell_type": "code",
   "execution_count": 85,
   "metadata": {},
   "outputs": [],
   "source": [
    "def get_training_data_from_open(open_matches, open_points):\n",
    "    data = []\n",
    "    non_nan_matches = open_matches[open_matches['winner'].isin([0,1])]\n",
    "    for match_id in non_nan_matches['match_id']:\n",
    "        data.append(get_match_data(match_id, open_matches, open_points, soften_curve=False))\n",
    "    return data"
   ]
  },
  {
   "cell_type": "code",
   "execution_count": null,
   "metadata": {},
   "outputs": [],
   "source": []
  },
  {
   "cell_type": "code",
   "execution_count": 86,
   "metadata": {},
   "outputs": [],
   "source": [
    "training_data_aussie_open = get_training_data_from_open(aus_open_2011_matches, aus_open_2011_points)"
   ]
  },
  {
   "cell_type": "code",
   "execution_count": 87,
   "metadata": {},
   "outputs": [],
   "source": [
    "x, y = training_data_aussie_open[12]"
   ]
  },
  {
   "cell_type": "code",
   "execution_count": 88,
   "metadata": {},
   "outputs": [
    {
     "data": {
      "text/plain": [
       "(143, 6)"
      ]
     },
     "execution_count": 88,
     "metadata": {},
     "output_type": "execute_result"
    }
   ],
   "source": [
    "x.shape"
   ]
  },
  {
   "cell_type": "code",
   "execution_count": 89,
   "metadata": {},
   "outputs": [
    {
     "data": {
      "text/plain": [
       "<torch._C.Generator at 0x121646c70>"
      ]
     },
     "execution_count": 89,
     "metadata": {},
     "output_type": "execute_result"
    }
   ],
   "source": [
    "import torch\n",
    "import torch.nn as nn\n",
    "import torch.nn.functional as F\n",
    "import torch.optim as optim\n",
    "\n",
    "torch.manual_seed(1)"
   ]
  },
  {
   "cell_type": "code",
   "execution_count": 90,
   "metadata": {},
   "outputs": [],
   "source": [
    "class TennisLSTM(nn.Module):\n",
    "\n",
    "    def __init__(self, input_dim, hidden_dim, batch_size, output_dim=1,\n",
    "                    num_layers=2):\n",
    "        super(TennisLSTM, self).__init__()\n",
    "        self.input_dim = input_dim\n",
    "        self.hidden_dim = hidden_dim\n",
    "        self.batch_size = batch_size\n",
    "        self.num_layers = num_layers\n",
    "        \n",
    "        self.lstm = nn.LSTM(self.input_dim, self.hidden_dim, self.num_layers)\n",
    "        self.linear = nn.Linear(self.hidden_dim, output_dim)\n",
    "        \n",
    "    def init_hidden(self):\n",
    "        # This is what we'll initialise our hidden state as\n",
    "        return (torch.zeros(self.num_layers, self.batch_size, self.hidden_dim),\n",
    "                torch.zeros(self.num_layers, self.batch_size, self.hidden_dim))\n",
    "    def forward(self, input):\n",
    "        # Forward pass through LSTM layer\n",
    "        # shape of lstm_out: [input_size, batch_size, hidden_dim]\n",
    "        # shape of self.hidden: (a, b), where a and b both \n",
    "        # have shape (num_layers, batch_size, hidden_dim).\n",
    "        lstm_out, self.hidden = self.lstm(input.view(len(input), self.batch_size, -1))\n",
    "        \n",
    "\n",
    "        # Only take the output from the final timetep\n",
    "        # Can pass on the entirety of lstm_out to the next layer if it is a seq2seq prediction\n",
    "        assert np.sum(torch.isnan(lstm_out).detach().numpy()) < 1, \"hit a nan\"\n",
    "        linear_output = self.linear(lstm_out)\n",
    "        assert np.sum(torch.isnan(linear_output).detach().numpy()) < 1, \"hit a nan\"\n",
    "        y_pred = torch.sigmoid(linear_output)\n",
    "        assert np.sum(torch.isnan(linear_output).detach().numpy()) < 1, \"hit a nan\"\n",
    "#         y_pred = F.log_softmax(self.linear(lstm_out))\n",
    "        return y_pred.view(-1)"
   ]
  },
  {
   "cell_type": "code",
   "execution_count": null,
   "metadata": {},
   "outputs": [],
   "source": []
  },
  {
   "cell_type": "code",
   "execution_count": null,
   "metadata": {},
   "outputs": [],
   "source": []
  },
  {
   "cell_type": "code",
   "execution_count": 91,
   "metadata": {},
   "outputs": [],
   "source": [
    "def weighted_loss(y_gt, y_pred, weighting=None, alpha=.9, loss_fn=torch.nn.MSELoss(reduction='none')):\n",
    "    weight = np.ones(y_gt.shape)\n",
    "    for i in range(weight.shape[0]):\n",
    "        if weighting is None:\n",
    "            weight[i] = weight[i]*(.1 + .9*(i/weight.shape[0]))\n",
    "        else:\n",
    "            weight[i] = weight[i]*weighting\n",
    "    weight = torch.from_numpy(weight)\n",
    "    pointwise_loss = weight * loss_fn(y_gt, y_pred)\n",
    "    \n",
    "    assert np.sum(torch.isnan(pointwise_loss).detach().numpy()) < 1, \"hit a nan\"\n",
    "    \n",
    "#     print(weight*pointwise_loss)\n",
    "\n",
    "    return torch.sum(pointwise_loss)\n",
    "    "
   ]
  },
  {
   "cell_type": "code",
   "execution_count": 100,
   "metadata": {
    "scrolled": true
   },
   "outputs": [
    {
     "name": "stdout",
     "output_type": "stream",
     "text": [
      "cpu\n",
      "training on 75 examples\n",
      "training on 149 examples\n",
      "training on 241 examples\n",
      "epoch 0\n",
      "epoch 0 avg loss 24.02537783955103\n",
      "epoch 1\n",
      "epoch 1 avg loss 20.914052795567574\n",
      "epoch 2\n",
      "epoch 2 avg loss 10.160876217809449\n",
      "epoch 3\n",
      "epoch 3 avg loss 1.5193566040804858\n",
      "epoch 4\n",
      "epoch 4 avg loss 0.4698565050292536\n",
      "epoch 5\n",
      "epoch 5 avg loss 0.2858831396306313\n",
      "epoch 6\n",
      "epoch 6 avg loss 0.22332401345375635\n",
      "epoch 7\n",
      "epoch 7 avg loss 0.1885602295976302\n",
      "epoch 8\n",
      "epoch 8 avg loss 0.16455102447563594\n",
      "epoch 9\n",
      "epoch 9 avg loss 0.1467058530151533\n",
      "epoch 10\n",
      "epoch 10 avg loss 0.13295757187251056\n",
      "epoch 11\n",
      "epoch 11 avg loss 0.12194776636234708\n",
      "epoch 12\n",
      "epoch 12 avg loss 0.11289417563781985\n",
      "epoch 13\n",
      "epoch 13 avg loss 0.10533393794084311\n",
      "epoch 14\n",
      "epoch 14 avg loss 0.09897326715072471\n",
      "epoch 15\n",
      "epoch 15 avg loss 0.09349832725173511\n",
      "epoch 16\n",
      "epoch 16 avg loss 0.08865761966603598\n",
      "epoch 17\n",
      "epoch 17 avg loss 0.08427763673884144\n",
      "epoch 18\n",
      "epoch 18 avg loss 0.08023129412337125\n",
      "epoch 19\n",
      "epoch 19 avg loss 0.07640744955481876\n"
     ]
    }
   ],
   "source": [
    "model = TennisLSTM(input_dim=6, hidden_dim=50, batch_size=1, output_dim=1,\n",
    "                    num_layers=2)\n",
    "\n",
    "num_epochs = 20\n",
    "\n",
    "optimizer = torch.optim.Adam(model.parameters(), lr=0.001)\n",
    "hist = np.zeros(num_epochs)\n",
    "\n",
    "device = torch.device(\"cuda:0\" if torch.cuda.is_available() else \"cpu\")\n",
    "print(device)\n",
    "loss_fn = weighted_loss\n",
    "training_data = get_training_data_from_open(aus_open_2011_matches, aus_open_2011_points)\n",
    "print(f'training on {len(training_data)} examples')\n",
    "training_data += get_training_data_from_open(us_open_2011_matches, us_open_2011_points)\n",
    "print(f'training on {len(training_data)} examples')\n",
    "training_data += get_training_data_from_open(french_open_2011_matches, french_open_2011_points)\n",
    "print(f'training on {len(training_data)} examples')\n",
    "\n",
    "for epoch in range(num_epochs):\n",
    "    losses = []\n",
    "    # Forward pass\n",
    "    print(f'epoch {epoch}')\n",
    "    for i, data in enumerate(training_data[:-100]): #janky holdout\n",
    "        model.hidden = model.init_hidden()\n",
    "#         optimizer.zero_grad()\n",
    "        X_train, y_train  = data \n",
    "        X_train = torch.tensor(X_train, device=device).float()\n",
    "        y_train = torch.tensor(y_train, device=device).float()\n",
    "        y_pred = model(X_train)\n",
    "        loss = loss_fn(y_pred, y_train)\n",
    "        loss.backward()\n",
    "        if i % 10 == 0:\n",
    "            optimizer.step()\n",
    "            model.zero_grad()\n",
    "            optimizer.zero_grad()       \n",
    "        losses.append(loss.data.numpy())\n",
    "#         preds = []\n",
    "#         x_losses = []\n",
    "#         for i in range(X_train.shape[0]):\n",
    "#             y_i = torch.tensor(y_train[:i+1], device=device).float()\n",
    "#             x_i = torch.tensor(X_train[:i+1,:], device=device).float()\n",
    "#             pred = model(x_i)\n",
    "#             weight = (.1 + .9*(i/X_train.shape[0]))\n",
    "#             loss = loss_fn(pred, y_i, weighting=weight)\n",
    "#             loss.backward()\n",
    "#             optimizer.step()\n",
    "#             model.zero_grad()\n",
    "#             optimizer.zero_grad()       \n",
    "#             x_losses.append(loss.detach().numpy())\n",
    "#             preds.append(pred.detach().numpy()[-1])      \n",
    "#         print(np.mean(losses))\n",
    "        \n",
    "#         if True or epoch == num_epochs - 1:# and i > 100:\n",
    "#             fig = plt.figure()\n",
    "#             gt = y_train\n",
    "#             ax = plt.axes()\n",
    "#             ax.plot(preds);\n",
    "#             ax.plot(gt);\n",
    "#             plt.show()\n",
    "    print(f'epoch {epoch} avg loss {np.mean(losses)}')\n",
    "\n",
    "        \n",
    "    \n",
    "\n"
   ]
  },
  {
   "cell_type": "code",
   "execution_count": null,
   "metadata": {},
   "outputs": [],
   "source": []
  },
  {
   "cell_type": "code",
   "execution_count": null,
   "metadata": {
    "scrolled": true
   },
   "outputs": [
    {
     "name": "stdout",
     "output_type": "stream",
     "text": [
      "winner should be 0.0\n",
      "(204, 6)\n"
     ]
    },
    {
     "data": {
      "image/png": "[encoded data removed]",
      "text/plain": [
       "<Figure size 432x288 with 1 Axes>"
      ]
     },
     "metadata": {
      "needs_background": "light"
     },
     "output_type": "display_data"
    },
    {
     "name": "stdout",
     "output_type": "stream",
     "text": [
      "\n",
      "winner should be 1.0\n",
      "(225, 6)\n"
     ]
    },
    {
     "data": {
      "image/png": "[encoded data removed]",
      "text/plain": [
       "<Figure size 432x288 with 1 Axes>"
      ]
     },
     "metadata": {
      "needs_background": "light"
     },
     "output_type": "display_data"
    },
    {
     "name": "stdout",
     "output_type": "stream",
     "text": [
      "\n",
      "winner should be 0.0\n",
      "(114, 6)\n"
     ]
    },
    {
     "data": {
      "image/png": "[encoded data removed]",
      "text/plain": [
       "<Figure size 432x288 with 1 Axes>"
      ]
     },
     "metadata": {
      "needs_background": "light"
     },
     "output_type": "display_data"
    },
    {
     "name": "stdout",
     "output_type": "stream",
     "text": [
      "\n",
      "winner should be 1.0\n",
      "(115, 6)\n"
     ]
    },
    {
     "data": {
      "image/png": "[encoded data removed]",
      "text/plain": [
       "<Figure size 432x288 with 1 Axes>"
      ]
     },
     "metadata": {
      "needs_background": "light"
     },
     "output_type": "display_data"
    },
    {
     "name": "stdout",
     "output_type": "stream",
     "text": [
      "\n",
      "winner should be 1.0\n",
      "(219, 6)\n"
     ]
    },
    {
     "data": {
      "image/png": "[encoded data removed]",
      "text/plain": [
       "<Figure size 432x288 with 1 Axes>"
      ]
     },
     "metadata": {
      "needs_background": "light"
     },
     "output_type": "display_data"
    },
    {
     "name": "stdout",
     "output_type": "stream",
     "text": [
      "\n",
      "winner should be 0.0\n",
      "(138, 6)\n"
     ]
    }
   ],
   "source": [
    "for i, test_example in enumerate(training_data[-100:]):\n",
    "    model.hidden = model.init_hidden()\n",
    "    x, y = test_example\n",
    "    print(f\"winner should be {y[-1]}\")\n",
    "    preds = np.array([])\n",
    "    print(x.shape)\n",
    "    for i in range(x.shape[0]):\n",
    "        x_i = torch.tensor(x[:i+1,:], device=device).float()\n",
    "        pred = model(x_i)\n",
    "        preds = np.append(preds, pred.detach().numpy()[-1])\n",
    "#         print(x_i)\n",
    "#         print(preds)\n",
    "    fig = plt.figure()\n",
    "    ax = plt.axes()\n",
    "    ax.plot(preds);\n",
    "    plt.show()\n",
    "#     print(x)\n",
    "#     print(y)\n",
    "    #produces identical results to:\n",
    "#     preds = model(torch.tensor(x, device=device).float()).detach().numpy()\n",
    "#     fig = plt.figure()\n",
    "#     ax = plt.axes()\n",
    "#     ax.plot(preds);\n",
    "#     plt.show()\n",
    "    print()"
   ]
  },
  {
   "cell_type": "code",
   "execution_count": null,
   "metadata": {},
   "outputs": [],
   "source": []
  },
  {
   "cell_type": "code",
   "execution_count": null,
   "metadata": {},
   "outputs": [],
   "source": []
  },
  {
   "cell_type": "code",
   "execution_count": null,
   "metadata": {},
   "outputs": [],
   "source": []
  }
 ],
 "metadata": {
  "kernelspec": {
   "display_name": "Python 3",
   "language": "python",
   "name": "python3"
  },
  "language_info": {
   "codemirror_mode": {
    "name": "ipython",
    "version": 3
   },
   "file_extension": ".py",
   "mimetype": "text/x-python",
   "name": "python",
   "nbconvert_exporter": "python",
   "pygments_lexer": "ipython3",
   "version": "3.6.9"
  }
 },
 "nbformat": 4,
 "nbformat_minor": 2
}

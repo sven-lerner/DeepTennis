{
 "cells": [
  {
   "cell_type": "code",
   "execution_count": 1,
   "metadata": {},
   "outputs": [],
   "source": [
    "import numpy as np\n",
    "import csv\n",
    "import pandas as pd\n",
    "%matplotlib inline\n",
    "import matplotlib.pyplot as plt\n",
    "import random"
   ]
  },
  {
   "cell_type": "code",
   "execution_count": null,
   "metadata": {},
   "outputs": [],
   "source": []
  },
  {
   "cell_type": "code",
   "execution_count": 2,
   "metadata": {},
   "outputs": [],
   "source": [
    "aus_open_2011_matches_path = '/Users/sven/repos/stanford/cs_230/project/DeepTennis/data/2011-ausopen-matches.csv'\n",
    "aus_open_2011_matches = pd.read_csv(aus_open_2011_matches_path) \n",
    "aus_open_2011_points_path = '/Users/sven/repos/stanford/cs_230/project/DeepTennis/data/2011-ausopen-points.csv'\n",
    "aus_open_2011_points = pd.read_csv(aus_open_2011_points_path) \n",
    "\n",
    "french_open_2011_matches_path = '/Users/sven/repos/stanford/cs_230/project/DeepTennis/data/2011-frenchopen-matches.csv'\n",
    "french_open_2011_matches = pd.read_csv(french_open_2011_matches_path) \n",
    "french_open_2011_points_path = '/Users/sven/repos/stanford/cs_230/project/DeepTennis/data/2011-frenchopen-points.csv'\n",
    "french_open_2011_points = pd.read_csv(french_open_2011_points_path) \n",
    "\n",
    "us_open_2011_matches_path = '/Users/sven/repos/stanford/cs_230/project/DeepTennis/data/2011-usopen-matches.csv'\n",
    "us_open_2011_matches = pd.read_csv(us_open_2011_matches_path) \n",
    "us_open_2011_points_path = '/Users/sven/repos/stanford/cs_230/project/DeepTennis/data/2011-usopen-points.csv'\n",
    "us_open_2011_points = pd.read_csv(us_open_2011_points_path) \n"
   ]
  },
  {
   "cell_type": "code",
   "execution_count": 6,
   "metadata": {},
   "outputs": [],
   "source": [
    "# print(us_open_2011_matches['winner'])\n",
    "# print(aus_open_2012_points.columns)\n"
   ]
  },
  {
   "cell_type": "code",
   "execution_count": 7,
   "metadata": {},
   "outputs": [],
   "source": [
    "match_1_id = aus_open_2011_matches.get('match_id')[0]\n"
   ]
  },
  {
   "cell_type": "code",
   "execution_count": 8,
   "metadata": {},
   "outputs": [],
   "source": [
    "match_1_data = dict(aus_open_2011_matches.loc[0])\n",
    "match_1_points = aus_open_2011_points.loc[aus_open_2011_points['match_id'] == match_1_id]"
   ]
  },
  {
   "cell_type": "code",
   "execution_count": 9,
   "metadata": {},
   "outputs": [
    {
     "data": {
      "text/plain": [
       "{'match_id': '2011-ausopen-1101',\n",
       " 'year': 2011,\n",
       " 'slam': 'ausopen',\n",
       " 'match_num': 1101,\n",
       " 'player1': 'Rafael Nadal',\n",
       " 'player2': 'Marcos Daniel',\n",
       " 'status': 'Retired',\n",
       " 'winner': 1,\n",
       " 'event_name': \"Men's Singles\",\n",
       " 'round': 'Round 1',\n",
       " 'court_name': 'Rod Laver Arena',\n",
       " 'court_id': 'A',\n",
       " 'player1id': 'atpn409',\n",
       " 'player2id': 'atpd339',\n",
       " 'nation1': 'ESP',\n",
       " 'nation2': 'BRA'}"
      ]
     },
     "execution_count": 9,
     "metadata": {},
     "output_type": "execute_result"
    }
   ],
   "source": [
    "match_1_data"
   ]
  },
  {
   "cell_type": "code",
   "execution_count": 10,
   "metadata": {},
   "outputs": [
    {
     "name": "stdout",
     "output_type": "stream",
     "text": [
      "             match_id ElapsedTime  SetNo  P1GamesWon  P2GamesWon  SetWinner  \\\n",
      "0   2011-ausopen-1101    00:00:00    1.0         0.0         0.0          0   \n",
      "1   2011-ausopen-1101     0:00:00    1.0         0.0         0.0          0   \n",
      "2   2011-ausopen-1101     0:00:23    1.0         0.0         0.0          0   \n",
      "3   2011-ausopen-1101     0:00:59    1.0         0.0         0.0          0   \n",
      "4   2011-ausopen-1101     0:01:57    1.0         1.0         0.0          0   \n",
      "5   2011-ausopen-1101     0:03:23    1.0         1.0         0.0          0   \n",
      "6   2011-ausopen-1101     0:04:04    1.0         1.0         0.0          0   \n",
      "7   2011-ausopen-1101     0:04:27    1.0         1.0         0.0          0   \n",
      "8   2011-ausopen-1101     0:05:01    1.0         1.0         0.0          0   \n",
      "9   2011-ausopen-1101     0:05:21    1.0         1.0         0.0          0   \n",
      "10  2011-ausopen-1101     0:05:53    1.0         2.0         0.0          0   \n",
      "11  2011-ausopen-1101     0:06:39    1.0         2.0         0.0          0   \n",
      "12  2011-ausopen-1101     0:07:10    1.0         2.0         0.0          0   \n",
      "13  2011-ausopen-1101     0:07:39    1.0         2.0         0.0          0   \n",
      "14  2011-ausopen-1101     0:08:10    1.0         2.0         0.0          0   \n",
      "15  2011-ausopen-1101     0:08:42    1.0         3.0         0.0          0   \n",
      "16  2011-ausopen-1101     0:09:42    1.0         3.0         0.0          0   \n",
      "17  2011-ausopen-1101     0:10:42    1.0         3.0         0.0          0   \n",
      "18  2011-ausopen-1101     0:12:38    1.0         3.0         0.0          0   \n",
      "19  2011-ausopen-1101     0:13:35    1.0         3.0         0.0          0   \n",
      "20  2011-ausopen-1101     0:13:59    1.0         4.0         0.0          0   \n",
      "21  2011-ausopen-1101     0:14:35    1.0         4.0         0.0          0   \n",
      "22  2011-ausopen-1101     0:15:01    1.0         4.0         0.0          0   \n",
      "23  2011-ausopen-1101     0:15:23    1.0         4.0         0.0          0   \n",
      "24  2011-ausopen-1101     0:15:59    1.0         5.0         0.0          0   \n",
      "25  2011-ausopen-1101     0:17:58    1.0         5.0         0.0          0   \n",
      "26  2011-ausopen-1101     0:18:32    1.0         5.0         0.0          0   \n",
      "27  2011-ausopen-1101     0:18:45    1.0         5.0         0.0          0   \n",
      "28  2011-ausopen-1101     0:19:04    1.0         6.0         0.0          1   \n",
      "29  2011-ausopen-1101     0:20:04    2.0         0.0         0.0          0   \n",
      "30  2011-ausopen-1101     0:21:04    2.0         0.0         0.0          0   \n",
      "31  2011-ausopen-1101     0:22:04    2.0         0.0         0.0          0   \n",
      "32  2011-ausopen-1101     0:23:04    2.0         1.0         0.0          0   \n",
      "33  2011-ausopen-1101     0:24:04    2.0         1.0         0.0          0   \n",
      "34  2011-ausopen-1101     0:25:04    2.0         1.0         0.0          0   \n",
      "35  2011-ausopen-1101     0:26:04    2.0         1.0         0.0          0   \n",
      "36  2011-ausopen-1101     0:27:04    2.0         1.0         0.0          0   \n",
      "37  2011-ausopen-1101     0:28:04    2.0         1.0         0.0          0   \n",
      "38  2011-ausopen-1101     0:29:04    2.0         1.0         0.0          0   \n",
      "39  2011-ausopen-1101     0:30:04    2.0         1.0         0.0          0   \n",
      "40  2011-ausopen-1101     0:31:04    2.0         1.0         0.0          0   \n",
      "41  2011-ausopen-1101     0:32:04    2.0         1.0         0.0          0   \n",
      "42  2011-ausopen-1101     0:33:04    2.0         1.0         0.0          0   \n",
      "43  2011-ausopen-1101     0:34:04    2.0         1.0         0.0          0   \n",
      "44  2011-ausopen-1101     0:35:58    2.0         1.0         0.0          0   \n",
      "45  2011-ausopen-1101     0:37:03    2.0         1.0         0.0          0   \n",
      "46  2011-ausopen-1101     0:37:47    2.0         1.0         0.0          0   \n",
      "47  2011-ausopen-1101     0:38:11    2.0         1.0         0.0          0   \n",
      "48  2011-ausopen-1101     0:38:34    2.0         2.0         0.0          0   \n",
      "49  2011-ausopen-1101     0:39:22    2.0         2.0         0.0          0   \n",
      "50  2011-ausopen-1101     0:39:43    2.0         2.0         0.0          0   \n",
      "51  2011-ausopen-1101     0:40:07    2.0         2.0         0.0          0   \n",
      "52  2011-ausopen-1101     0:40:30    2.0         3.0         0.0          0   \n",
      "53  2011-ausopen-1101     0:41:30    2.0         3.0         0.0          0   \n",
      "54  2011-ausopen-1101     0:43:24    2.0         3.0         0.0          0   \n",
      "55  2011-ausopen-1101     0:43:52    2.0         3.0         0.0          0   \n",
      "56  2011-ausopen-1101     0:44:25    2.0         4.0         0.0          0   \n",
      "57  2011-ausopen-1101     0:45:01    2.0         4.0         0.0          0   \n",
      "58  2011-ausopen-1101     0:45:36    2.0         4.0         0.0          0   \n",
      "59  2011-ausopen-1101     0:45:59    2.0         4.0         0.0          0   \n",
      "60  2011-ausopen-1101     0:46:16    2.0         4.0         0.0          0   \n",
      "61  2011-ausopen-1101     0:46:46    2.0         5.0         0.0          0   \n",
      "\n",
      "    GameNo  GameWinner  PointNumber  PointWinner  ...  P2SecondSrvWon  \\\n",
      "0      1.0           0            0          0.0  ...             0.0   \n",
      "1      1.0           0            1          1.0  ...             0.0   \n",
      "2      1.0           0            2          1.0  ...             0.0   \n",
      "3      1.0           0            3          1.0  ...             0.0   \n",
      "4      1.0           1            4          1.0  ...             0.0   \n",
      "5      2.0           0            5          1.0  ...             0.0   \n",
      "6      2.0           0            6          1.0  ...             0.0   \n",
      "7      2.0           0            7          2.0  ...             0.0   \n",
      "8      2.0           0            8          1.0  ...             0.0   \n",
      "9      2.0           0            9          2.0  ...             0.0   \n",
      "10     2.0           1           10          1.0  ...             0.0   \n",
      "11     3.0           0           11          2.0  ...             0.0   \n",
      "12     3.0           0           12          1.0  ...             0.0   \n",
      "13     3.0           0           13          1.0  ...             0.0   \n",
      "14     3.0           0           14          1.0  ...             0.0   \n",
      "15     3.0           1           15          1.0  ...             0.0   \n",
      "16     4.0           0           16          2.0  ...             0.0   \n",
      "17     4.0           0           17          1.0  ...             0.0   \n",
      "18     4.0           0           18          1.0  ...             0.0   \n",
      "19     4.0           0           19          1.0  ...             0.0   \n",
      "20     4.0           1           20          1.0  ...             0.0   \n",
      "21     5.0           0           21          1.0  ...             0.0   \n",
      "22     5.0           0           22          1.0  ...             0.0   \n",
      "23     5.0           0           23          1.0  ...             0.0   \n",
      "24     5.0           1           24          1.0  ...             0.0   \n",
      "25     6.0           0           25          1.0  ...             0.0   \n",
      "26     6.0           0           26          1.0  ...             0.0   \n",
      "27     6.0           0           27          1.0  ...             0.0   \n",
      "28     6.0           1           28          1.0  ...             0.0   \n",
      "29     1.0           0           29          1.0  ...             0.0   \n",
      "30     1.0           0           30          1.0  ...             0.0   \n",
      "31     1.0           0           31          1.0  ...             0.0   \n",
      "32     1.0           1           32          1.0  ...             0.0   \n",
      "33     2.0           0           33          2.0  ...             0.0   \n",
      "34     2.0           0           34          1.0  ...             0.0   \n",
      "35     2.0           0           35          2.0  ...             0.0   \n",
      "36     2.0           0           36          1.0  ...             0.0   \n",
      "37     2.0           0           37          2.0  ...             0.0   \n",
      "38     2.0           0           38          1.0  ...             0.0   \n",
      "39     2.0           0           39          2.0  ...             0.0   \n",
      "40     2.0           0           40          1.0  ...             0.0   \n",
      "41     2.0           0           41          1.0  ...             0.0   \n",
      "42     2.0           0           42          2.0  ...             0.0   \n",
      "43     2.0           0           43          2.0  ...             0.0   \n",
      "44     2.0           0           44          1.0  ...             0.0   \n",
      "45     2.0           0           45          2.0  ...             0.0   \n",
      "46     2.0           0           46          1.0  ...             0.0   \n",
      "47     2.0           0           47          1.0  ...             0.0   \n",
      "48     2.0           1           48          1.0  ...             0.0   \n",
      "49     3.0           0           49          1.0  ...             0.0   \n",
      "50     3.0           0           50          1.0  ...             0.0   \n",
      "51     3.0           0           51          1.0  ...             0.0   \n",
      "52     3.0           1           52          1.0  ...             0.0   \n",
      "53     4.0           0           53          1.0  ...             0.0   \n",
      "54     4.0           0           54          1.0  ...             0.0   \n",
      "55     4.0           0           55          1.0  ...             0.0   \n",
      "56     4.0           1           56          1.0  ...             0.0   \n",
      "57     5.0           0           57          1.0  ...             0.0   \n",
      "58     5.0           0           58          1.0  ...             0.0   \n",
      "59     5.0           0           59          2.0  ...             0.0   \n",
      "60     5.0           0           60          1.0  ...             0.0   \n",
      "61     5.0           1           61          1.0  ...             0.0   \n",
      "\n",
      "    P1ForcedError  P2ForcedError  History Speed_MPH  P1BreakPointMissed  \\\n",
      "0             0.0            0.0      0.0       0.0                   0   \n",
      "1             0.0            0.0  21020.0     103.0                   0   \n",
      "2             0.0            0.0  22020.0      82.0                   0   \n",
      "3             0.0            0.0  22020.0      89.0                   0   \n",
      "4             0.0            0.0  21022.0      85.0                   0   \n",
      "5             0.0            0.0  11010.0      92.0                   0   \n",
      "6             0.0            1.0  21030.0     124.0                   0   \n",
      "7             0.0            0.0  15000.0       0.0                   0   \n",
      "8             0.0            0.0  13000.0     106.0                   0   \n",
      "9             0.0            0.0  11020.0     124.0                   0   \n",
      "10            0.0            0.0  11012.0      90.0                   0   \n",
      "11            1.0            0.0  12030.0      98.0                   0   \n",
      "12            0.0            0.0  22420.0     100.0                   0   \n",
      "13            0.0            0.0  21020.0     100.0                   0   \n",
      "14            0.0            0.0  21020.0     106.0                   0   \n",
      "15            0.0            0.0  21022.0      88.0                   0   \n",
      "16            0.0            0.0  12020.0       0.0                   0   \n",
      "17            0.0            1.0  22030.0      88.0                   0   \n",
      "18            0.0            0.0  11010.0      90.0                   0   \n",
      "19            0.0            1.0  21030.0     126.0                   0   \n",
      "20            0.0            0.0  13000.0     127.0                   0   \n",
      "21            0.0            0.0  22020.0     100.0                   0   \n",
      "22            0.0            0.0  21020.0     115.0                   0   \n",
      "23            0.0            0.0  21020.0      90.0                   0   \n",
      "24            0.0            0.0  11512.0     111.0                   0   \n",
      "25            0.0            0.0  11010.0     123.0                   0   \n",
      "26            0.0            0.0  14000.0     112.0                   0   \n",
      "27            0.0            0.0  13000.0     120.0                   0   \n",
      "28            0.0            0.0  11513.0      92.0                   0   \n",
      "29            0.0            0.0  21020.0      97.0                   0   \n",
      "30            0.0            0.0  12010.0     106.0                   0   \n",
      "31            0.0            0.0  21020.0     110.0                   0   \n",
      "32            0.0            0.0  22022.0      88.0                   0   \n",
      "33            0.0            0.0  15000.0       0.0                   0   \n",
      "34            0.0            0.0  21020.0      87.0                   0   \n",
      "35            0.0            0.0  11020.0     119.0                   0   \n",
      "36            0.0            0.0  11010.0     121.0                   0   \n",
      "37            0.0            0.0  11020.0      88.0                   0   \n",
      "38            0.0            1.0  22030.0     102.0                   0   \n",
      "39            0.0            0.0  11520.0     115.0                   0   \n",
      "40            0.0            0.0  11010.0     116.0                   0   \n",
      "41            0.0            0.0  11010.0     118.0                   0   \n",
      "42            0.0            0.0  15000.0       0.0                   0   \n",
      "43            0.0            0.0  11020.0      92.0                   0   \n",
      "44            0.0            0.0  11010.0      86.0                   0   \n",
      "45            0.0            0.0  11020.0      88.0                   0   \n",
      "46            0.0            1.0  22030.0     105.0                   0   \n",
      "47            0.0            1.0  22030.0     100.0                   0   \n",
      "48            0.0            0.0  13000.0     102.0                   0   \n",
      "49            0.0            0.0  11010.0      82.0                   0   \n",
      "50            0.0            0.0  22020.0     108.0                   0   \n",
      "51            0.0            0.0  12010.0     108.0                   0   \n",
      "52            0.0            0.0  11012.0      87.0                   0   \n",
      "53            0.0            0.0  11010.0       0.0                   0   \n",
      "54            0.0            0.0  11010.0     105.0                   0   \n",
      "55            0.0            0.0  21020.0       0.0                   0   \n",
      "56            0.0            0.0  11012.0      94.0                   0   \n",
      "57            0.0            0.0  22020.0      85.0                   0   \n",
      "58            0.0            0.0  11010.0      93.0                   0   \n",
      "59            1.0            0.0  11030.0     120.0                   0   \n",
      "60            0.0            0.0  11010.0      84.0                   0   \n",
      "61            0.0            0.0  12012.0     118.0                   0   \n",
      "\n",
      "    P2BreakPointMissed  ServeIndicator  P1TurningPoint  P2TurningPoint  \n",
      "0                    0               0               0               0  \n",
      "1                    0               2               0               0  \n",
      "2                    0               2               0               0  \n",
      "3                    0               2               0               0  \n",
      "4                    0               1               8               0  \n",
      "5                    0               1              10               0  \n",
      "6                    0               1              11               0  \n",
      "7                    0               1               0               1  \n",
      "8                    0               1               0               0  \n",
      "9                    0               1               2               2  \n",
      "10                   0               2               7               0  \n",
      "11                   0               2               0               3  \n",
      "12                   0               2               0               0  \n",
      "13                   0               2               1               0  \n",
      "14                   0               2               3               4  \n",
      "15                   0               1               7               0  \n",
      "16                   0               1               0               0  \n",
      "17                   0               1               0               0  \n",
      "18                   0               1               3               0  \n",
      "19                   0               1               7               1  \n",
      "20                   0               2              11               0  \n",
      "21                   0               2               0               0  \n",
      "22                   0               2               0               0  \n",
      "23                   0               2               3               0  \n",
      "24                   0               1               9               0  \n",
      "25                   0               1              11               0  \n",
      "26                   0               1              13               0  \n",
      "27                   0               1               0               0  \n",
      "28                   0               2              15               0  \n",
      "29                   0               2               0               0  \n",
      "30                   0               2               0               0  \n",
      "31                   0               2               5               0  \n",
      "32                   0               1              10               0  \n",
      "33                   0               1               0               1  \n",
      "34                   0               1               0               0  \n",
      "35                   0               1               5               0  \n",
      "36                   0               1               0               0  \n",
      "37                   0               1               0               2  \n",
      "38                   1               1               3               0  \n",
      "39                   0               1               0               0  \n",
      "40                   1               1               0               0  \n",
      "41                   0               1               4               1  \n",
      "42                   0               1               0               0  \n",
      "43                   0               1               0               2  \n",
      "44                   1               1               3               0  \n",
      "45                   0               1               0               0  \n",
      "46                   1               1               0               0  \n",
      "47                   0               1               2               1  \n",
      "48                   0               2              10               2  \n",
      "49                   0               2              11               0  \n",
      "50                   0               2               0               0  \n",
      "51                   0               2               0               2  \n",
      "52                   0               1              11               3  \n",
      "53                   0               1              13               0  \n",
      "54                   0               1               0               0  \n",
      "55                   0               1               0               0  \n",
      "56                   0               2               9               0  \n",
      "57                   0               2               0               0  \n",
      "58                   0               2               0               0  \n",
      "59                   0               2               3               2  \n",
      "60                   0               2               5               0  \n",
      "61                   0               1               9               0  \n",
      "\n",
      "[62 rows x 52 columns]\n"
     ]
    }
   ],
   "source": [
    "pd.options.display.max_rows = 500\n",
    "\n",
    "print(match_1_points)"
   ]
  },
  {
   "cell_type": "code",
   "execution_count": 11,
   "metadata": {},
   "outputs": [
    {
     "ename": "NameError",
     "evalue": "name 'valid' is not defined",
     "output_type": "error",
     "traceback": [
      "\u001b[0;31m---------------------------------------------------------------------------\u001b[0m",
      "\u001b[0;31mNameError\u001b[0m                                 Traceback (most recent call last)",
      "\u001b[0;32m<ipython-input-11-0b02ceba8652>\u001b[0m in \u001b[0;36m<module>\u001b[0;34m\u001b[0m\n\u001b[0;32m----> 1\u001b[0;31m \u001b[0mvalid\u001b[0m\u001b[0;34m\u001b[0m\u001b[0;34m\u001b[0m\u001b[0m\n\u001b[0m",
      "\u001b[0;31mNameError\u001b[0m: name 'valid' is not defined"
     ]
    }
   ],
   "source": [
    "valid"
   ]
  },
  {
   "cell_type": "code",
   "execution_count": 17,
   "metadata": {},
   "outputs": [],
   "source": [
    "valid_fields = {\n",
    "# 'ElapsedTime',\n",
    "# 'SetNo',\n",
    "'P1GamesWon',\n",
    "'P2GamesWon',\n",
    "# 'SetWinner',\n",
    "# 'GameNo',\n",
    "# 'GameWinner',\n",
    "# 'PointNumber',\n",
    "# 'PointWinner',\n",
    "# 'PointServer',\n",
    "# 'Speed_KMH',\n",
    "# 'Rally',\n",
    "'P1Score',\n",
    "'P2Score',\n",
    "# 'P1Momentum',\n",
    "# 'P2Momentum',\n",
    "'P1PointsWon',\n",
    "'P2PointsWon',\n",
    "# 'P1Ace',\n",
    "# 'P2Ace',\n",
    "'P1Winner',\n",
    "'P2Winner',\n",
    "# 'P1DoubleFault',\n",
    "# 'P2DoubleFault',\n",
    "# 'P1UnfErr',\n",
    "# 'P2UnfErr',\n",
    "# 'P1NetPoint',\n",
    "# 'P2NetPoint',\n",
    "# 'P1NetPointWon',\n",
    "# 'P2NetPointWon',\n",
    "# 'P1BreakPoint',\n",
    "# 'P2BreakPoint',\n",
    "# 'P1BreakPointWon',\n",
    "# 'P2BreakPointWon',\n",
    "# 'P1FirstSrvIn',\n",
    "# 'P2FirstSrvIn',\n",
    "# 'P1FirstSrvWon',\n",
    "# 'P2FirstSrvWon',\n",
    "# 'P1SecondSrvIn',\n",
    "# 'P2SecondSrvIn',\n",
    "# 'P1SecondSrvWon',\n",
    "# 'P2SecondSrvWon',\n",
    "# 'P1ForcedError',\n",
    "# 'P2ForcedError',\n",
    "# 'History',\n",
    "# 'Speed_MPH',\n",
    "# 'P1BreakPointMissed',\n",
    "# 'P2BreakPointMissed',\n",
    "# 'ServeIndicator',\n",
    "# 'P1TurningPoint', \n",
    "# 'P2TurningPoint'\n",
    "}\n",
    "\n",
    "shuffle_pairs = {\n",
    "    ('P1GamesWon','P2GamesWon'),\n",
    "    ('P1BreakPointMissed','P2BreakPointMissed'),\n",
    "    ('P1Score', 'P2Score'),\n",
    "    ('P1Momentum', 'P2Momentum'),\n",
    "    ('P1PointsWon', 'P2PointsWon'),\n",
    "    ('P1Ace', 'P2Ace'),\n",
    "    ('P1Winner', 'P2Winner'),\n",
    "    ('P1DoubleFault', 'P2DoubleFault'),\n",
    "    ('P1UnfErr', 'P2UnfErr'),\n",
    "    ('P1NetPoint', 'P2NetPoint'),\n",
    "    ('P1NetPointWon', 'P2NetPointWon'),\n",
    "    ('P1BreakPoint', 'P2BreakPoint'),\n",
    "    ('P1BreakPointWon', 'P2BreakPointWon'),\n",
    "    ('P1FirstSrvIn', 'P2FirstSrvIn'),\n",
    "    ('P1FirstSrvWon', 'P2FirstSrvWon'),\n",
    "    ('P1SecondSrvIn', 'P2SecondSrvIn'), \n",
    "    ('P1SecondSrvWon', 'P2SecondSrvWon'),\n",
    "    ('P1ForcedError', 'P2ForcedError'),\n",
    "    ('P1TurningPoint', 'P2TurningPoint')\n",
    "}"
   ]
  },
  {
   "cell_type": "code",
   "execution_count": 18,
   "metadata": {},
   "outputs": [],
   "source": [
    "def parse_time(time_string):\n",
    "    hr, m, s = [int(x) for x in time_string.split(':')]\n",
    "    return 3600*hr + 60 * m + s\n",
    "\n",
    "def extract_numpy_from_match(match_points, shuffle_players=False):\n",
    "    \n",
    "    match_points_copy = match_points.copy()\n",
    "    if shuffle_players:\n",
    "        for p1_val, p2_val in shuffle_pairs:\n",
    "            tmp = match_points_copy[p1_val]\n",
    "            match_points_copy[p1_val] = match_points_copy[p2_val]\n",
    "            match_points_copy[p2_val] = tmp\n",
    "    parsed_time = match_points_copy\n",
    "    parsed_time['ElapsedTime'] = parsed_time['ElapsedTime'].map(lambda x: parse_time(x))\n",
    "    parsed_scores = parsed_time.replace('AD', 55)\n",
    "    \n",
    "    return parsed_scores[list(valid_fields)].to_numpy(dtype=np.float)\n",
    "    "
   ]
  },
  {
   "cell_type": "code",
   "execution_count": null,
   "metadata": {},
   "outputs": [],
   "source": []
  },
  {
   "cell_type": "code",
   "execution_count": 19,
   "metadata": {},
   "outputs": [],
   "source": [
    "def get_match_data(match_id, match_data, point_data, soften_curve):\n",
    "    shuffle_players = random.uniform(0, 1) > 0.5\n",
    "    winner = match_data.loc[match_data['match_id'] == match_id].iloc[0]['winner'] - 1\n",
    "    \n",
    "    point_data = point_data.loc[point_data['match_id'] == match_id]\n",
    "    num_points = point_data.shape[0]\n",
    "    \n",
    "    if shuffle_players:\n",
    "        winner = (winner + 1) % 2\n",
    "        assert winner < 2, f'{winner}, {match_id}'\n",
    "        \n",
    "    y_gt = np.full(shape=num_points, fill_value=winner, dtype='float')\n",
    "\n",
    "    if soften_curve:\n",
    "        if winner == 1:\n",
    "            for i in range(num_points):\n",
    "                if i > 25:\n",
    "                    y_gt[i] = y_gt[i] -0.5*(1.0-(i-25)/(num_points-25))\n",
    "                else:\n",
    "                    y_gt[i] = 0.5\n",
    "        else:\n",
    "            for i in range(num_points):\n",
    "                if i > 25:\n",
    "                    y_gt[i] = y_gt[i] +0.5*(1.0-(i-25)/(num_points-25))\n",
    "                else:\n",
    "                    y_gt[i] = 0.5\n",
    "    \n",
    "    return extract_numpy_from_match(point_data, shuffle_players), y_gt\n",
    "    "
   ]
  },
  {
   "cell_type": "code",
   "execution_count": 20,
   "metadata": {},
   "outputs": [],
   "source": [
    "def get_training_data_from_open(open_matches, open_points):\n",
    "    data = []\n",
    "    non_nan_matches = open_matches[open_matches['winner'].isin([0,1])]\n",
    "    for match_id in non_nan_matches['match_id']:\n",
    "        data.append(get_match_data(match_id, open_matches, open_points, True))\n",
    "    return data"
   ]
  },
  {
   "cell_type": "code",
   "execution_count": 21,
   "metadata": {},
   "outputs": [],
   "source": [
    "training_data_aussie_open = get_training_data_from_open(aus_open_2011_matches, aus_open_2011_points)"
   ]
  },
  {
   "cell_type": "code",
   "execution_count": 22,
   "metadata": {},
   "outputs": [],
   "source": [
    "x, y = training_data_aussie_open[12]"
   ]
  },
  {
   "cell_type": "code",
   "execution_count": 23,
   "metadata": {},
   "outputs": [
    {
     "data": {
      "text/plain": [
       "(143, 8)"
      ]
     },
     "execution_count": 23,
     "metadata": {},
     "output_type": "execute_result"
    }
   ],
   "source": [
    "x.shape"
   ]
  },
  {
   "cell_type": "code",
   "execution_count": 24,
   "metadata": {},
   "outputs": [
    {
     "data": {
      "text/plain": [
       "<torch._C.Generator at 0x121646c70>"
      ]
     },
     "execution_count": 24,
     "metadata": {},
     "output_type": "execute_result"
    }
   ],
   "source": [
    "import torch\n",
    "import torch.nn as nn\n",
    "import torch.nn.functional as F\n",
    "import torch.optim as optim\n",
    "\n",
    "torch.manual_seed(1)"
   ]
  },
  {
   "cell_type": "code",
   "execution_count": 25,
   "metadata": {},
   "outputs": [],
   "source": [
    "class TennisLSTM(nn.Module):\n",
    "\n",
    "    def __init__(self, input_dim, hidden_dim, batch_size, output_dim=1,\n",
    "                    num_layers=2):\n",
    "        super(TennisLSTM, self).__init__()\n",
    "        self.input_dim = input_dim\n",
    "        self.hidden_dim = hidden_dim\n",
    "        self.batch_size = batch_size\n",
    "        self.num_layers = num_layers\n",
    "        \n",
    "        self.lstm = nn.LSTM(self.input_dim, self.hidden_dim, self.num_layers)\n",
    "        self.linear = nn.Linear(self.hidden_dim, output_dim)\n",
    "        \n",
    "    def init_hidden(self):\n",
    "        # This is what we'll initialise our hidden state as\n",
    "        return (torch.zeros(self.num_layers, self.batch_size, self.hidden_dim),\n",
    "                torch.zeros(self.num_layers, self.batch_size, self.hidden_dim))\n",
    "    def forward(self, input):\n",
    "        # Forward pass through LSTM layer\n",
    "        # shape of lstm_out: [input_size, batch_size, hidden_dim]\n",
    "        # shape of self.hidden: (a, b), where a and b both \n",
    "        # have shape (num_layers, batch_size, hidden_dim).\n",
    "        lstm_out, self.hidden = self.lstm(input.view(len(input), self.batch_size, -1))\n",
    "        \n",
    "\n",
    "        # Only take the output from the final timetep\n",
    "        # Can pass on the entirety of lstm_out to the next layer if it is a seq2seq prediction\n",
    "        assert np.sum(torch.isnan(lstm_out).detach().numpy()) < 1, \"hit a nan\"\n",
    "        linear_output = self.linear(lstm_out)\n",
    "        assert np.sum(torch.isnan(linear_output).detach().numpy()) < 1, \"hit a nan\"\n",
    "        y_pred = torch.sigmoid(linear_output)\n",
    "        assert np.sum(torch.isnan(linear_output).detach().numpy()) < 1, \"hit a nan\"\n",
    "#         y_pred = F.log_softmax(self.linear(lstm_out))\n",
    "        return y_pred.view(-1)"
   ]
  },
  {
   "cell_type": "code",
   "execution_count": null,
   "metadata": {},
   "outputs": [],
   "source": []
  },
  {
   "cell_type": "code",
   "execution_count": null,
   "metadata": {},
   "outputs": [],
   "source": []
  },
  {
   "cell_type": "code",
   "execution_count": 40,
   "metadata": {},
   "outputs": [],
   "source": [
    "def weighted_loss(y_gt, y_pred, weighting=None, alpha=.9, loss_fn=torch.nn.MSELoss(reduction='none')):\n",
    "    weight = np.ones(y_gt.shape)\n",
    "    for i in range(weight.shape[0]):\n",
    "        if weighting is None:\n",
    "            weight[i] = weight[i]*(.1 + .9*(i/weight.shape[0]))\n",
    "        else:\n",
    "            weight[i] = weight[i]*weighting\n",
    "    weight = torch.from_numpy(weight)\n",
    "    pointwise_loss = weight * loss_fn(y_gt, y_pred)\n",
    "    \n",
    "    assert np.sum(torch.isnan(pointwise_loss).detach().numpy()) < 1, \"hit a nan\"\n",
    "    \n",
    "#     print(weight*pointwise_loss)\n",
    "\n",
    "    return torch.sum(pointwise_loss)\n",
    "    "
   ]
  },
  {
   "cell_type": "code",
   "execution_count": 54,
   "metadata": {
    "scrolled": true
   },
   "outputs": [
    {
     "name": "stdout",
     "output_type": "stream",
     "text": [
      "cpu\n",
      "training on 75 examples\n",
      "training on 149 examples\n",
      "training on 241 examples\n",
      "epoch 0\n",
      "epoch 0 avg loss 9.280844692368088\n",
      "epoch 1\n",
      "epoch 1 avg loss 4.579976264824327\n",
      "epoch 2\n",
      "epoch 2 avg loss 1.5895181603193629\n",
      "epoch 3\n",
      "epoch 3 avg loss 0.837280767193482\n",
      "epoch 4\n",
      "epoch 4 avg loss 0.7091602345301764\n",
      "epoch 5\n",
      "epoch 5 avg loss 0.6515973530608596\n",
      "epoch 6\n",
      "epoch 6 avg loss 0.624099888665607\n",
      "epoch 7\n",
      "epoch 7 avg loss 0.6067836372900044\n",
      "epoch 8\n",
      "epoch 8 avg loss 0.5848914476354686\n",
      "epoch 9\n",
      "epoch 9 avg loss 0.567627626523291\n",
      "epoch 10\n",
      "epoch 10 avg loss 0.55506315557952\n",
      "epoch 11\n",
      "epoch 11 avg loss 0.5466513818127039\n",
      "epoch 12\n",
      "epoch 12 avg loss 0.5313219598327245\n",
      "epoch 13\n",
      "epoch 13 avg loss 0.5300551695989342\n",
      "epoch 14\n",
      "epoch 14 avg loss 0.5312364054615764\n",
      "epoch 15\n",
      "epoch 15 avg loss 0.5382649164872367\n",
      "epoch 16\n",
      "epoch 16 avg loss 0.5152050467997688\n",
      "epoch 17\n",
      "epoch 17 avg loss 0.5175455596031205\n",
      "epoch 18\n",
      "epoch 18 avg loss 0.5095649112305948\n",
      "epoch 19\n",
      "epoch 19 avg loss 0.50213454359299\n"
     ]
    }
   ],
   "source": [
    "model = TennisLSTM(input_dim=8, hidden_dim=50, batch_size=1, output_dim=1,\n",
    "                    num_layers=2)\n",
    "\n",
    "num_epochs = 20\n",
    "\n",
    "optimizer = torch.optim.Adam(model.parameters(), lr=0.001)\n",
    "hist = np.zeros(num_epochs)\n",
    "\n",
    "device = torch.device(\"cuda:0\" if torch.cuda.is_available() else \"cpu\")\n",
    "print(device)\n",
    "loss_fn = weighted_loss\n",
    "training_data = get_training_data_from_open(aus_open_2011_matches, aus_open_2011_points)\n",
    "print(f'training on {len(training_data)} examples')\n",
    "training_data += get_training_data_from_open(us_open_2011_matches, us_open_2011_points)\n",
    "print(f'training on {len(training_data)} examples')\n",
    "training_data += get_training_data_from_open(french_open_2011_matches, french_open_2011_points)\n",
    "print(f'training on {len(training_data)} examples')\n",
    "\n",
    "for epoch in range(num_epochs):\n",
    "    losses = []\n",
    "    # Forward pass\n",
    "    print(f'epoch {epoch}')\n",
    "    for i, data in enumerate(training_data[20:]): #janky holdout\n",
    "        \n",
    "        model.hidden = model.init_hidden()\n",
    "#         optimizer.zero_grad()\n",
    "        X_train, y_train  = data \n",
    "        X_train = torch.tensor(X_train, device=device).float()\n",
    "        y_train = torch.tensor(y_train, device=device).float()\n",
    "        y_pred = model(X_train)\n",
    "        loss = loss_fn(y_pred, y_train)\n",
    "        loss.backward()\n",
    "        if i % 10 == 0:\n",
    "            optimizer.step()\n",
    "            model.zero_grad()\n",
    "            optimizer.zero_grad()       \n",
    "        losses.append(loss.data.numpy())\n",
    "#         preds = []\n",
    "#         x_losses = []\n",
    "#         for i in range(X_train.shape[0]):\n",
    "#             y_i = torch.tensor(y_train[:i+1], device=device).float()\n",
    "#             x_i = torch.tensor(X_train[:i+1,:], device=device).float()\n",
    "#             pred = model(x_i)\n",
    "#             weight = (.1 + .9*(i/X_train.shape[0]))\n",
    "#             loss = loss_fn(pred, y_i, weighting=weight)\n",
    "#             loss.backward()\n",
    "#             optimizer.step()\n",
    "#             model.zero_grad()\n",
    "#             optimizer.zero_grad()       \n",
    "#             x_losses.append(loss.detach().numpy())\n",
    "#             preds.append(pred.detach().numpy()[-1])      \n",
    "#         print(np.mean(losses))\n",
    "        \n",
    "#         if True or epoch == num_epochs - 1:# and i > 100:\n",
    "#             fig = plt.figure()\n",
    "#             gt = y_train\n",
    "#             ax = plt.axes()\n",
    "#             ax.plot(preds);\n",
    "#             ax.plot(gt);\n",
    "#             plt.show()\n",
    "    print(f'epoch {epoch} avg loss {np.mean(losses)}')\n",
    "\n",
    "        \n",
    "    \n",
    "\n"
   ]
  },
  {
   "cell_type": "code",
   "execution_count": null,
   "metadata": {},
   "outputs": [],
   "source": []
  },
  {
   "cell_type": "code",
   "execution_count": null,
   "metadata": {
    "scrolled": false
   },
   "outputs": [
    {
     "name": "stdout",
     "output_type": "stream",
     "text": [
      "winner should be 0.9864864864864865\n",
      "(62, 8)\n"
     ]
    },
    {
     "data": {
      "image/png": "[encoded data removed]",
      "text/plain": [
       "<Figure size 432x288 with 1 Axes>"
      ]
     },
     "metadata": {
      "needs_background": "light"
     },
     "output_type": "display_data"
    },
    {
     "name": "stdout",
     "output_type": "stream",
     "text": [
      "\n",
      "winner should be 0.996875\n",
      "(185, 8)\n"
     ]
    },
    {
     "data": {
      "image/png": "[encoded data removed]",
      "text/plain": [
       "<Figure size 432x288 with 1 Axes>"
      ]
     },
     "metadata": {
      "needs_background": "light"
     },
     "output_type": "display_data"
    },
    {
     "name": "stdout",
     "output_type": "stream",
     "text": [
      "\n",
      "winner should be 0.002873563218390829\n",
      "(199, 8)\n"
     ]
    },
    {
     "data": {
      "image/png": "[encoded data removed]",
      "text/plain": [
       "<Figure size 432x288 with 1 Axes>"
      ]
     },
     "metadata": {
      "needs_background": "light"
     },
     "output_type": "display_data"
    },
    {
     "name": "stdout",
     "output_type": "stream",
     "text": [
      "\n",
      "winner should be 0.001381215469613284\n",
      "(387, 8)\n"
     ]
    },
    {
     "data": {
      "image/png": "[encoded data removed]",
      "text/plain": [
       "<Figure size 432x288 with 1 Axes>"
      ]
     },
     "metadata": {
      "needs_background": "light"
     },
     "output_type": "display_data"
    },
    {
     "name": "stdout",
     "output_type": "stream",
     "text": [
      "\n",
      "winner should be 0.9968152866242038\n",
      "(182, 8)\n"
     ]
    },
    {
     "data": {
      "image/png": "[encoded data removed]",
      "text/plain": [
       "<Figure size 432x288 with 1 Axes>"
      ]
     },
     "metadata": {
      "needs_background": "light"
     },
     "output_type": "display_data"
    },
    {
     "name": "stdout",
     "output_type": "stream",
     "text": [
      "\n",
      "winner should be 0.998046875\n",
      "(281, 8)\n"
     ]
    },
    {
     "data": {
      "image/png": "[encoded data removed]",
      "text/plain": [
       "<Figure size 432x288 with 1 Axes>"
      ]
     },
     "metadata": {
      "needs_background": "light"
     },
     "output_type": "display_data"
    },
    {
     "name": "stdout",
     "output_type": "stream",
     "text": [
      "\n",
      "winner should be 0.9959677419354839\n",
      "(149, 8)\n"
     ]
    },
    {
     "data": {
      "image/png": "[encoded data removed]",
      "text/plain": [
       "<Figure size 432x288 with 1 Axes>"
      ]
     },
     "metadata": {
      "needs_background": "light"
     },
     "output_type": "display_data"
    },
    {
     "name": "stdout",
     "output_type": "stream",
     "text": [
      "\n",
      "winner should be 0.9959016393442623\n",
      "(147, 8)\n"
     ]
    },
    {
     "data": {
      "image/png": "[encoded data removed]",
      "text/plain": [
       "<Figure size 432x288 with 1 Axes>"
      ]
     },
     "metadata": {
      "needs_background": "light"
     },
     "output_type": "display_data"
    },
    {
     "name": "stdout",
     "output_type": "stream",
     "text": [
      "\n",
      "winner should be 0.0040322580645161255\n",
      "(149, 8)\n"
     ]
    },
    {
     "data": {
      "image/png": "[encoded data removed]",
      "text/plain": [
       "<Figure size 432x288 with 1 Axes>"
      ]
     },
     "metadata": {
      "needs_background": "light"
     },
     "output_type": "display_data"
    },
    {
     "name": "stdout",
     "output_type": "stream",
     "text": [
      "\n",
      "winner should be 0.9974226804123711\n",
      "(219, 8)\n"
     ]
    },
    {
     "data": {
      "image/png": "[encoded data removed]",
      "text/plain": [
       "<Figure size 432x288 with 1 Axes>"
      ]
     },
     "metadata": {
      "needs_background": "light"
     },
     "output_type": "display_data"
    },
    {
     "name": "stdout",
     "output_type": "stream",
     "text": [
      "\n",
      "winner should be 0.9980769230769231\n",
      "(285, 8)\n"
     ]
    },
    {
     "data": {
      "image/png": "[encoded data removed]",
      "text/plain": [
       "<Figure size 432x288 with 1 Axes>"
      ]
     },
     "metadata": {
      "needs_background": "light"
     },
     "output_type": "display_data"
    },
    {
     "name": "stdout",
     "output_type": "stream",
     "text": [
      "\n",
      "winner should be 0.001618122977346259\n",
      "(334, 8)\n"
     ]
    }
   ],
   "source": [
    "for i in range(0,20):\n",
    "    model.hidden = model.init_hidden()\n",
    "    test_example = training_data[i]\n",
    "    x, y = test_example\n",
    "    print(f\"winner should be {y[-1]}\")\n",
    "    preds = np.array([])\n",
    "    print(x.shape)\n",
    "    for i in range(x.shape[0]):\n",
    "        x_i = torch.tensor(x[:i+1,:], device=device).float()\n",
    "        pred = model(x_i)\n",
    "        preds = np.append(preds, pred.detach().numpy()[-1])\n",
    "    fig = plt.figure()\n",
    "    ax = plt.axes()\n",
    "    ax.plot(preds);\n",
    "    plt.show()\n",
    "    #produces identical results to:\n",
    "#     preds = model(torch.tensor(x, device=device).float()).detach().numpy()\n",
    "#     fig = plt.figure()\n",
    "#     ax = plt.axes()\n",
    "#     ax.plot(preds);\n",
    "#     plt.show()\n",
    "    print()"
   ]
  },
  {
   "cell_type": "code",
   "execution_count": null,
   "metadata": {},
   "outputs": [],
   "source": []
  },
  {
   "cell_type": "code",
   "execution_count": null,
   "metadata": {},
   "outputs": [],
   "source": []
  },
  {
   "cell_type": "code",
   "execution_count": null,
   "metadata": {},
   "outputs": [],
   "source": []
  }
 ],
 "metadata": {
  "kernelspec": {
   "display_name": "Python 3",
   "language": "python",
   "name": "python3"
  },
  "language_info": {
   "codemirror_mode": {
    "name": "ipython",
    "version": 3
   },
   "file_extension": ".py",
   "mimetype": "text/x-python",
   "name": "python",
   "nbconvert_exporter": "python",
   "pygments_lexer": "ipython3",
   "version": "3.6.9"
  }
 },
 "nbformat": 4,
 "nbformat_minor": 2
}
